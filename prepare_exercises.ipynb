{
 "cells": [
  {
   "cell_type": "code",
   "execution_count": 5,
   "metadata": {},
   "outputs": [],
   "source": [
    "import unicodedata\n",
    "import re\n",
    "import json\n",
    "\n",
    "import nltk\n",
    "from nltk.tokenize.toktok import ToktokTokenizer\n",
    "from nltk.corpus import stopwords\n",
    "\n",
    "import pandas as pd\n",
    "\n",
    "from acquire import get_blog_articles, get_news_articles"
   ]
  },
  {
   "cell_type": "code",
   "execution_count": 8,
   "metadata": {},
   "outputs": [],
   "source": [
    "urls = ['https://codeup.com/codeups-data-science-career-accelerator-is-here/',\n",
    "        'https://codeup.com/data-science-myths/',\n",
    "        'https://codeup.com/data-science-vs-data-analytics-whats-the-difference/',\n",
    "        'https://codeup.com/10-tips-to-crush-it-at-the-sa-tech-job-fair/',\n",
    "        'https://codeup.com/competitor-bootcamps-are-closing-is-the-model-in-danger/']"
   ]
  },
  {
   "cell_type": "code",
   "execution_count": 9,
   "metadata": {},
   "outputs": [
    {
     "name": "stdout",
     "output_type": "stream",
     "text": [
      "                                               title  \\\n",
      "0  Codeup’s Data Science Career Accelerator is Here!   \n",
      "1                                 Data Science Myths   \n",
      "2  Data Science VS Data Analytics: What’s The Dif...   \n",
      "3        10 Tips to Crush It at the SA Tech Job Fair   \n",
      "4  Competitor Bootcamps Are Closing. Is the Model...   \n",
      "\n",
      "                                             content  \n",
      "0  The rumors are true! The time has arrived. Cod...  \n",
      "1  By Dimitri Antoniou and Maggie Giust\\nData Sci...  \n",
      "2  By Dimitri Antoniou\\nA week ago, Codeup launch...  \n",
      "3  SA Tech Job Fair\\nThe third bi-annual San Anto...  \n",
      "4  Competitor Bootcamps Are Closing. Is the Model...  \n"
     ]
    }
   ],
   "source": [
    "original = get_blog_articles(urls)\n",
    "print(original)"
   ]
  },
  {
   "cell_type": "markdown",
   "metadata": {},
   "source": [
    "Define a function named basic_clean. It should take in a string and apply some basic text cleaning to it:\n",
    "\n",
    "- Lowercase everything\n",
    "- Normalize unicode characters\n",
    "- Replace anything that is not a letter, number, whitespace or a single quote."
   ]
  },
  {
   "cell_type": "code",
   "execution_count": 11,
   "metadata": {},
   "outputs": [],
   "source": [
    "def basic_clean(text): \n",
    "    '''This function takes in a string, lowercases it, normalized unicode characters, \n",
    "    and replaces anything that is not a letter, number, whitespace or a single quote.'''\n",
    "    # changes text to all lowercase\n",
    "    lower_case = text.lower()\n",
    "    # remove special characters, encode to ascii and recode to utf-8\n",
    "    recode = unicodedata.normalize('NFKD', low_case).encode('ascii', 'ignore').decode('utf-8', 'ignore')\n",
    "     # Replace anything that is not a letter, number, whitespace or a single quote\n",
    "    clean_text = re.sub(r\"[^a-z0-9'\\s]\", '', recode)\n",
    "    return clean_text"
   ]
  },
  {
   "cell_type": "markdown",
   "metadata": {},
   "source": [
    "Define a function named tokenize. It should take in a string and tokenize all the words in the string."
   ]
  },
  {
   "cell_type": "code",
   "execution_count": 12,
   "metadata": {},
   "outputs": [],
   "source": [
    "def tokenize(text):\n",
    "    '''\n",
    "    This function uses NLTK TlktokTokenizer to separate/tokenize text.\n",
    "    '''\n",
    "    # create the NLTK tokenizer object\n",
    "    tokenizer = nltk.tokenize.ToktokTokenizer()\n",
    "    return tokenizer.tokenize(text, return_str=True)"
   ]
  },
  {
   "cell_type": "markdown",
   "metadata": {},
   "source": [
    "Define a function named stem. It should accept some text and return the text after applying stemming to all the words."
   ]
  },
  {
   "cell_type": "code",
   "execution_count": null,
   "metadata": {},
   "outputs": [],
   "source": [
    "def stem(text):\n",
    "    '''\n",
    "    This function applies NLTK stemming to text to remove prefix and suffixes.\n",
    "    '''\n",
    "    # Create the nltk stemmer object, then use it\n",
    "    ps = nltk.porter.PorterStemmer()\n",
    "    stems = [ps.stem(word) for word in text.split()]\n",
    "    article_stemmed = ' '.join(stems)\n",
    "    return article_stemmed"
   ]
  },
  {
   "cell_type": "markdown",
   "metadata": {},
   "source": [
    "Define a function named lemmatize. It should accept some text and return the text after applying lemmatization to each word."
   ]
  },
  {
   "cell_type": "code",
   "execution_count": null,
   "metadata": {},
   "outputs": [],
   "source": [
    "def lemmatize(text):\n",
    "    '''\n",
    "   This function applies NLTK lemming to text to remove prefix and suffixes.\n",
    "    '''\n",
    "    # Create the nltk lemmatize object, then use it\n",
    "    wnl = nltk.stem.WordNetLemmatizer()\n",
    "    lemmas = [wnl.lemmatize(word) for word in text.split()]\n",
    "    article_lemmatized = ' '.join(lemmas)\n",
    "    return article_lemmatized"
   ]
  },
  {
   "cell_type": "markdown",
   "metadata": {},
   "source": [
    "Define a function named remove_stopwords. It should accept some text and return the text after removing all the stopwords."
   ]
  },
  {
   "cell_type": "code",
   "execution_count": 13,
   "metadata": {},
   "outputs": [],
   "source": [
    "def remove_stopwords(text, extra_words=[], exclude_words=[]):\n",
    "    '''\n",
    "    This function takes in text, allows for additional word be or not be excluded and removes the stopword from the text.\n",
    "    '''\n",
    "    # define initial stopwords list\n",
    "    stopword_list = stopwords.words('english')\n",
    "    # add additional stopwords\n",
    "    for word in extra_words:\n",
    "        stopword_list.append(word)\n",
    "    # remove stopwords to exclude from stopword list\n",
    "    for word in exclude_words:\n",
    "        stopword_list.remove(word)\n",
    "    # split the string into words\n",
    "    words = text.split()\n",
    "    # filter the words\n",
    "    filtered_words = [w for w in words if w not in stopword_list]\n",
    "    # print number of stopwords removed\n",
    "    # print('Removed {} stopwords'.format(len(words) - len(filtered_words)))\n",
    "    # produce string without stopwords\n",
    "    article_without_stopwords = ' '.join(filtered_words)\n",
    "    return article_without_stopwords\n"
   ]
  },
  {
   "cell_type": "markdown",
   "metadata": {},
   "source": [
    "This function should define two optional parameters, extra_words and exclude_words. These parameters should define any additional stop words to include, and any words that we don't want to remove."
   ]
  },
  {
   "cell_type": "code",
   "execution_count": null,
   "metadata": {},
   "outputs": [],
   "source": []
  },
  {
   "cell_type": "markdown",
   "metadata": {},
   "source": [
    "Use your data from the acquire to produce a dataframe of the news articles. Name the dataframe news_df.\n",
    "\n",
    "Make another dataframe for the Codeup blog posts. Name the dataframe codeup_df.\n",
    "\n",
    "For each dataframe, produce the following columns:\n",
    "\n",
    "title to hold the title\n",
    "original to hold the original article/post content\n",
    "clean to hold the normalized and tokenized original with the stopwords removed.\n",
    "stemmed to hold the stemmed version of the cleaned data.\n",
    "lemmatized to hold the lemmatized version of the cleaned data.\n",
    "Ask yourself:\n",
    "\n",
    "If your corpus is 493KB, would you prefer to use stemmed or lemmatized text?\n",
    "If your corpus is 25MB, would you prefer to use stemmed or lemmatized text?\n",
    "If your corpus is 200TB of text and you're charged by the megabyte for your hosted computational resources, would you prefer to use stemmed or lemmatized text?"
   ]
  }
 ],
 "metadata": {
  "kernelspec": {
   "display_name": "Python 3",
   "language": "python",
   "name": "python3"
  },
  "language_info": {
   "codemirror_mode": {
    "name": "ipython",
    "version": 3
   },
   "file_extension": ".py",
   "mimetype": "text/x-python",
   "name": "python",
   "nbconvert_exporter": "python",
   "pygments_lexer": "ipython3",
   "version": "3.7.6"
  }
 },
 "nbformat": 4,
 "nbformat_minor": 4
}
